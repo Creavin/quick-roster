{
 "cells": [
  {
   "cell_type": "code",
   "metadata": {
    "pycharm": {
     "name": "#%%\n"
    }
   },
   "source": [
    "import pandas as pd\n",
    "from joblib import dump\n",
    "import numpy as np\n",
    "from sklearn.ensemble import ExtraTreesClassifier\n",
    "from sklearn.feature_selection import mutual_info_classif\n",
    "from sklearn.naive_bayes import GaussianNB, MultinomialNB, ComplementNB\n",
    "from sklearn.neighbors import KNeighborsClassifier\n",
    "from sklearn.tree import DecisionTreeClassifier\n",
    "from sklearn.metrics import roc_curve, auc, f1_score, accuracy_score, precision_score, confusion_matrix\n",
    "from sklearn.model_selection import train_test_split\n",
    "from sklearn.neighbors import KNeighborsClassifier\n",
    "from sklearn.model_selection import cross_val_score\n",
    "from sklearn.pipeline import Pipeline\n",
    "from sklearn import preprocessing\n",
    "from sklearn.naive_bayes import BernoulliNB\n",
    "from sklearn.ensemble import BaggingClassifier\n",
    "from sklearn.ensemble import RandomForestClassifier\n",
    "\n",
    "from mlxtend.feature_selection import SequentialFeatureSelector as SFS\n",
    "from mlxtend.plotting import plot_sequential_feature_selection as plot_sfs\n",
    "import matplotlib.pyplot as plt\n",
    "\n",
    "from sklearn.linear_model import SGDClassifier\n",
    "from sklearn.preprocessing import StandardScaler\n",
    "from sklearn.pipeline import make_pipeline\n",
    "from joblib import load\n"
   ],
   "execution_count": 22,
   "outputs": []
  },
  {
   "cell_type": "code",
   "execution_count": 23,
   "metadata": {
    "pycharm": {
     "name": "#%%\n"
    }
   },
   "outputs": [],
   "source": [
    "train_df_raw = pd.read_csv('data/train_rosters.csv')\n",
    "eval_df_raw = pd.read_csv('data/eval_rosters.csv')"
   ]
  },
  {
   "cell_type": "code",
   "execution_count": 24,
   "outputs": [
    {
     "data": {
      "text/plain": "   Unnamed: 0            index  num_workers  num_days  num_shifts  num_tracks  \\\n0           0  [0, 0, 0, 0, 0]           12         4           6           3   \n1           1  [0, 0, 0, 0, 1]           12         4           6           3   \n2           2  [0, 0, 0, 0, 2]           12         4           6           3   \n3           3  [0, 0, 0, 1, 0]           12         4           6           3   \n4           4  [0, 0, 0, 1, 1]           12         4           6           3   \n\n   num_skills  staff_req_sparcity  staff_avail_sparcity  \\\n0           3            0.057099              0.104167   \n1           3            0.057099              0.104167   \n2           3            0.057099              0.104167   \n3           3            0.057099              0.104167   \n4           3            0.057099              0.104167   \n\n   avg_num_skills_of_each_worker  ...  deviations_skill_staffing_from_mean  \\\n0                            1.0  ...                               -0.036   \n1                            1.0  ...                               -0.036   \n2                            1.0  ...                               -1.347   \n3                            1.0  ...                               -1.347   \n4                            1.0  ...                                0.619   \n\n   diff_available_workers_and_staffing_req_across_shifts  \\\n0                                                  8       \n1                                                  8       \n2                                                  8       \n3                                                  7       \n4                                                  7       \n\n   diff_average_avail_workers_and_current_avail_workers  \\\n0                                                8.0      \n1                                                8.0      \n2                                                8.0      \n3                                                7.0      \n4                                                7.0      \n\n   deviations_current_avail_workers_from_avg  max_possible_coverage  \\\n0                                     11.085               1.777027   \n1                                     11.085               1.777027   \n2                                     11.085               1.777027   \n3                                      9.699               1.777027   \n4                                      9.699               1.777027   \n\n   available_shifts_less_than_max  total_workers_required_to_fill_roster  \\\n0                           False                                  148.0   \n1                           False                                  148.0   \n2                           False                                  148.0   \n3                           False                                  148.0   \n4                           False                                  148.0   \n\n   avg_shifts_required_less_than_max       lpr_val  target  \n0                               True  0.000000e+00       0  \n1                               True  0.000000e+00       0  \n2                               True  0.000000e+00       0  \n3                               True  0.000000e+00       0  \n4                               True  6.611818e-13       0  \n\n[5 rows x 36 columns]",
      "text/html": "<div>\n<style scoped>\n    .dataframe tbody tr th:only-of-type {\n        vertical-align: middle;\n    }\n\n    .dataframe tbody tr th {\n        vertical-align: top;\n    }\n\n    .dataframe thead th {\n        text-align: right;\n    }\n</style>\n<table border=\"1\" class=\"dataframe\">\n  <thead>\n    <tr style=\"text-align: right;\">\n      <th></th>\n      <th>Unnamed: 0</th>\n      <th>index</th>\n      <th>num_workers</th>\n      <th>num_days</th>\n      <th>num_shifts</th>\n      <th>num_tracks</th>\n      <th>num_skills</th>\n      <th>staff_req_sparcity</th>\n      <th>staff_avail_sparcity</th>\n      <th>avg_num_skills_of_each_worker</th>\n      <th>...</th>\n      <th>deviations_skill_staffing_from_mean</th>\n      <th>diff_available_workers_and_staffing_req_across_shifts</th>\n      <th>diff_average_avail_workers_and_current_avail_workers</th>\n      <th>deviations_current_avail_workers_from_avg</th>\n      <th>max_possible_coverage</th>\n      <th>available_shifts_less_than_max</th>\n      <th>total_workers_required_to_fill_roster</th>\n      <th>avg_shifts_required_less_than_max</th>\n      <th>lpr_val</th>\n      <th>target</th>\n    </tr>\n  </thead>\n  <tbody>\n    <tr>\n      <th>0</th>\n      <td>0</td>\n      <td>[0, 0, 0, 0, 0]</td>\n      <td>12</td>\n      <td>4</td>\n      <td>6</td>\n      <td>3</td>\n      <td>3</td>\n      <td>0.057099</td>\n      <td>0.104167</td>\n      <td>1.0</td>\n      <td>...</td>\n      <td>-0.036</td>\n      <td>8</td>\n      <td>8.0</td>\n      <td>11.085</td>\n      <td>1.777027</td>\n      <td>False</td>\n      <td>148.0</td>\n      <td>True</td>\n      <td>0.000000e+00</td>\n      <td>0</td>\n    </tr>\n    <tr>\n      <th>1</th>\n      <td>1</td>\n      <td>[0, 0, 0, 0, 1]</td>\n      <td>12</td>\n      <td>4</td>\n      <td>6</td>\n      <td>3</td>\n      <td>3</td>\n      <td>0.057099</td>\n      <td>0.104167</td>\n      <td>1.0</td>\n      <td>...</td>\n      <td>-0.036</td>\n      <td>8</td>\n      <td>8.0</td>\n      <td>11.085</td>\n      <td>1.777027</td>\n      <td>False</td>\n      <td>148.0</td>\n      <td>True</td>\n      <td>0.000000e+00</td>\n      <td>0</td>\n    </tr>\n    <tr>\n      <th>2</th>\n      <td>2</td>\n      <td>[0, 0, 0, 0, 2]</td>\n      <td>12</td>\n      <td>4</td>\n      <td>6</td>\n      <td>3</td>\n      <td>3</td>\n      <td>0.057099</td>\n      <td>0.104167</td>\n      <td>1.0</td>\n      <td>...</td>\n      <td>-1.347</td>\n      <td>8</td>\n      <td>8.0</td>\n      <td>11.085</td>\n      <td>1.777027</td>\n      <td>False</td>\n      <td>148.0</td>\n      <td>True</td>\n      <td>0.000000e+00</td>\n      <td>0</td>\n    </tr>\n    <tr>\n      <th>3</th>\n      <td>3</td>\n      <td>[0, 0, 0, 1, 0]</td>\n      <td>12</td>\n      <td>4</td>\n      <td>6</td>\n      <td>3</td>\n      <td>3</td>\n      <td>0.057099</td>\n      <td>0.104167</td>\n      <td>1.0</td>\n      <td>...</td>\n      <td>-1.347</td>\n      <td>7</td>\n      <td>7.0</td>\n      <td>9.699</td>\n      <td>1.777027</td>\n      <td>False</td>\n      <td>148.0</td>\n      <td>True</td>\n      <td>0.000000e+00</td>\n      <td>0</td>\n    </tr>\n    <tr>\n      <th>4</th>\n      <td>4</td>\n      <td>[0, 0, 0, 1, 1]</td>\n      <td>12</td>\n      <td>4</td>\n      <td>6</td>\n      <td>3</td>\n      <td>3</td>\n      <td>0.057099</td>\n      <td>0.104167</td>\n      <td>1.0</td>\n      <td>...</td>\n      <td>0.619</td>\n      <td>7</td>\n      <td>7.0</td>\n      <td>9.699</td>\n      <td>1.777027</td>\n      <td>False</td>\n      <td>148.0</td>\n      <td>True</td>\n      <td>6.611818e-13</td>\n      <td>0</td>\n    </tr>\n  </tbody>\n</table>\n<p>5 rows × 36 columns</p>\n</div>"
     },
     "execution_count": 24,
     "metadata": {},
     "output_type": "execute_result"
    }
   ],
   "source": [
    "train_df = train_df_raw.copy()\n",
    "eval_df = eval_df_raw.copy()\n",
    "\n",
    "train_df = train_df.fillna(-1)\n",
    "eval_df = eval_df.fillna(-1)\n",
    "\n",
    "train_df.head()"
   ],
   "metadata": {
    "collapsed": false,
    "pycharm": {
     "name": "#%%\n"
    }
   }
  },
  {
   "cell_type": "code",
   "execution_count": 25,
   "metadata": {
    "pycharm": {
     "name": "#%%\n"
    }
   },
   "outputs": [
    {
     "name": "stdout",
     "output_type": "stream",
     "text": [
      "<bound method NDFrame.head of          num_shifts  num_tracks  num_skills  staff_avail_sparcity  \\\n",
      "0                 6           3           3              0.104167   \n",
      "1                 6           3           3              0.104167   \n",
      "2                 6           3           3              0.104167   \n",
      "3                 6           3           3              0.104167   \n",
      "4                 6           3           3              0.104167   \n",
      "...             ...         ...         ...                   ...   \n",
      "1466868           7           2           1              0.467532   \n",
      "1466869           7           2           1              0.467532   \n",
      "1466870           7           2           1              0.467532   \n",
      "1466871           7           2           1              0.467532   \n",
      "1466872           7           2           1              0.467532   \n",
      "\n",
      "         worker_is_available  worker_skill_penalty  worker_max_avail  \\\n",
      "0                          1                     0              23.0   \n",
      "1                          1                    10              23.0   \n",
      "2                          1                    10              23.0   \n",
      "3                          1                     0              23.0   \n",
      "4                          1                    10              23.0   \n",
      "...                      ...                   ...               ...   \n",
      "1466868                    1                     0              13.0   \n",
      "1466869                    1                     0              13.0   \n",
      "1466870                    1                     0              13.0   \n",
      "1466871                    1                     0              13.0   \n",
      "1466872                    1                     0              13.0   \n",
      "\n",
      "         day_req_chi_value  shift_req_chi_value  \\\n",
      "0                      4.4             1.117647   \n",
      "1                      4.4             1.117647   \n",
      "2                      4.4             1.117647   \n",
      "3                      4.4            12.304348   \n",
      "4                      4.4            12.304348   \n",
      "...                    ...                  ...   \n",
      "1466868                1.0             0.285714   \n",
      "1466869                1.0             0.111111   \n",
      "1466870                1.0             0.090909   \n",
      "1466871                1.0             0.090909   \n",
      "1466872                1.0             0.000000   \n",
      "\n",
      "         diff_avg_avail_w_skill_penalty_and_worker_penalty  ...  \\\n",
      "0                                                    3.667  ...   \n",
      "1                                                   -5.667  ...   \n",
      "2                                                   -3.333  ...   \n",
      "3                                                    3.909  ...   \n",
      "4                                                   -5.273  ...   \n",
      "...                                                    ...  ...   \n",
      "1466868                                              0.000  ...   \n",
      "1466869                                              0.000  ...   \n",
      "1466870                                              0.000  ...   \n",
      "1466871                                              0.000  ...   \n",
      "1466872                                              0.000  ...   \n",
      "\n",
      "         diff_skill_staffing_and_avg_skill_staffing  \\\n",
      "0                                         -0.055556   \n",
      "1                                         -0.055556   \n",
      "2                                         -2.055556   \n",
      "3                                         -2.055556   \n",
      "4                                          0.944444   \n",
      "...                                             ...   \n",
      "1466868                                   -0.142857   \n",
      "1466869                                   -1.142857   \n",
      "1466870                                   -0.142857   \n",
      "1466871                                    1.857143   \n",
      "1466872                                    1.857143   \n",
      "\n",
      "         diff_available_workers_and_staffing_req_across_shifts  \\\n",
      "0                                                        8       \n",
      "1                                                        8       \n",
      "2                                                        8       \n",
      "3                                                        7       \n",
      "4                                                        7       \n",
      "...                                                    ...       \n",
      "1466868                                                  4       \n",
      "1466869                                                  5       \n",
      "1466870                                                  5       \n",
      "1466871                                                  3       \n",
      "1466872                                                  2       \n",
      "\n",
      "         diff_average_avail_workers_and_current_avail_workers  \\\n",
      "0                                                      8.0      \n",
      "1                                                      8.0      \n",
      "2                                                      8.0      \n",
      "3                                                      7.0      \n",
      "4                                                      7.0      \n",
      "...                                                    ...      \n",
      "1466868                                                8.0      \n",
      "1466869                                                8.0      \n",
      "1466870                                                9.0      \n",
      "1466871                                                9.0      \n",
      "1466872                                                8.0      \n",
      "\n",
      "         deviations_current_avail_workers_from_avg  max_possible_coverage  \\\n",
      "0                                           11.085               1.777027   \n",
      "1                                           11.085               1.777027   \n",
      "2                                           11.085               1.777027   \n",
      "3                                            9.699               1.777027   \n",
      "4                                            9.699               1.777027   \n",
      "...                                            ...                    ...   \n",
      "1466868                                     11.431               1.593023   \n",
      "1466869                                     11.431               1.593023   \n",
      "1466870                                     12.860               1.593023   \n",
      "1466871                                     12.860               1.593023   \n",
      "1466872                                     11.431               1.593023   \n",
      "\n",
      "         available_shifts_less_than_max  \\\n",
      "0                                 False   \n",
      "1                                 False   \n",
      "2                                 False   \n",
      "3                                 False   \n",
      "4                                 False   \n",
      "...                                 ...   \n",
      "1466868                           False   \n",
      "1466869                           False   \n",
      "1466870                           False   \n",
      "1466871                           False   \n",
      "1466872                           False   \n",
      "\n",
      "         total_workers_required_to_fill_roster  \\\n",
      "0                                        148.0   \n",
      "1                                        148.0   \n",
      "2                                        148.0   \n",
      "3                                        148.0   \n",
      "4                                        148.0   \n",
      "...                                        ...   \n",
      "1466868                                   86.0   \n",
      "1466869                                   86.0   \n",
      "1466870                                   86.0   \n",
      "1466871                                   86.0   \n",
      "1466872                                   86.0   \n",
      "\n",
      "         avg_shifts_required_less_than_max       lpr_val  target  \n",
      "0                                     True  0.000000e+00       0  \n",
      "1                                     True  0.000000e+00       0  \n",
      "2                                     True  0.000000e+00       0  \n",
      "3                                     True  0.000000e+00       0  \n",
      "4                                     True  6.611818e-13       0  \n",
      "...                                    ...           ...     ...  \n",
      "1466868                               True  2.755555e-01       0  \n",
      "1466869                               True  2.727335e-01       0  \n",
      "1466870                               True  2.467874e-01       0  \n",
      "1466871                               True  2.612538e-01       0  \n",
      "1466872                               True  1.958989e-01       0  \n",
      "\n",
      "[1466873 rows x 24 columns]>\n"
     ]
    }
   ],
   "source": [
    "def pop_features(df, features):\n",
    "    for feat in features:\n",
    "        df.pop(feat)\n",
    "\n",
    "remove_features = ['Unnamed: 0', 'index',\n",
    "                   \"med_num_skills_of_each_worker\", \"avg_num_skills_of_each_worker\",\n",
    "                   \"chi_num_skills_of_each_worker\",\n",
    "                   \"diff_avg_skill_penalty_and_worker_penalty\",\n",
    "                   \"local_skill_demand\",\n",
    "                   \"deviations_skill_staffing_from_mean\",\n",
    "                   \"num_days\", 'num_workers', \"staff_req_sparcity\", \"skill_scarcity\"\n",
    "                   ]\n",
    "\n",
    "\n",
    "\n",
    "pop_features(train_df, remove_features)\n",
    "pop_features(eval_df, remove_features)\n",
    "print(train_df.head)\n"
   ]
  },
  {
   "cell_type": "code",
   "execution_count": 26,
   "outputs": [
    {
     "data": {
      "text/plain": "['models/scaler.joblib']"
     },
     "execution_count": 26,
     "metadata": {},
     "output_type": "execute_result"
    }
   ],
   "source": [
    "y_train = train_df.pop('target').values\n",
    "y_eval = eval_df.pop('target').values\n",
    "\n",
    "y_train =  np.ravel(y_train, order='C')\n",
    "y_test =  np.ravel(y_eval, order='C')\n",
    "\n",
    "X_train = train_df.values\n",
    "X_test = eval_df.values\n",
    "\n",
    "scaler = preprocessing.StandardScaler().fit(X_train)\n",
    "X_train= scaler.transform(X_train)\n",
    "X_test= scaler.transform(X_test)\n",
    "\n",
    "dump(scaler, f'models/scaler.joblib')"
   ],
   "metadata": {
    "collapsed": false,
    "pycharm": {
     "name": "#%%\n"
    }
   }
  },
  {
   "cell_type": "code",
   "execution_count": 27,
   "metadata": {
    "pycharm": {
     "name": "#%%\n"
    }
   },
   "outputs": [],
   "source": [
    "def max_prune(y):\n",
    "    size = len(y)\n",
    "    total_required = np.sum(y)\n",
    "    max_prune = size - total_required\n",
    "    return max_prune/size\n",
    "\n",
    "def confusion_matrix_scorer(clf, X, y):\n",
    "    y_pred = clf.predict(X)\n",
    "    cm = confusion_matrix(y, y_pred)\n",
    "    return false_negative_rate(cm)\n",
    "\n",
    "def fnr_complement_scorer(clf, X, y):\n",
    "    y_pred = clf.predict(X)\n",
    "    cm = confusion_matrix(y, y_pred)\n",
    "    return 1 - false_negative_rate(cm)\n",
    "\n",
    "def false_negative_rate(cm):\n",
    "    return round(cm[1][0] / (cm[1][0] + cm[1][1]), 3)\n",
    "\n",
    "def negative_pred_val(cm):\n",
    "    return round(cm[0][0] / (cm[0][0] + cm[1][0]), 3)\n",
    "\n",
    "def prune_percentage(cm):\n",
    "    return round( (cm[0][0] + cm[1][0]) / (np.sum(cm[:])), 3)\n",
    "\n",
    "def print_metrics(clf):\n",
    "    scores = cross_val_score(clf, X_test, y_test, cv=10, scoring='accuracy')\n",
    "    print(\"Acc cv: %0.3f (+/- %0.2f)\" % (scores.mean(), scores.std() * 2))\n",
    "    scores = cross_val_score(clf, X_test, y_test, cv=10, scoring='f1_macro')\n",
    "    print(\"F1 cv: %0.3f (+/- %0.2f)\" % (scores.mean(), scores.std() * 2))\n",
    "\n",
    "    y_pred = clf.predict(X_test)\n",
    "    cm = confusion_matrix(y_test, y_pred)\n",
    "    print(cm)\n",
    "    #print(\"npr = \", negative_pred_val(cm))\n",
    "    print(\"fnr = \", false_negative_rate(cm))\n",
    "    print(\"prune = \", prune_percentage(cm))\n",
    "\n",
    "def threshold_to_metrics(clf, threshold=0.99):\n",
    "    y_pred_p = clf.predict_proba(X_test)\n",
    "\n",
    "    y_pred_0 = np.where(y_pred_p[:,0] <= threshold, 0, y_pred_p[:,0])\n",
    "    y_pred_1 = y_pred_p[:,1]\n",
    "\n",
    "    y_pred = np.where(y_pred_0 > y_pred_1, 0, 1)\n",
    "\n",
    "    cm = confusion_matrix(y_test, y_pred)\n",
    "    fnr = false_negative_rate(cm)\n",
    "    prune_pc = prune_percentage(cm)\n",
    "\n",
    "    return {\"q\":threshold, \"prune\":prune_pc, \"fnr\": fnr, \"cm\":cm}\n",
    "\n",
    "def print_metrics_with_threshold(clf, threshold=0.99):\n",
    "    metrics = threshold_to_metrics(clf, threshold)\n",
    "    print(metrics['cm'])\n",
    "    #print(\"npr = \", negative_pred_val(cm))\n",
    "    print(\"fnr = \", metrics['fnr'])\n",
    "    print(\"prune = \", metrics['prune_pc'])\n",
    "\n"
   ]
  },
  {
   "cell_type": "code",
   "execution_count": 28,
   "metadata": {
    "pycharm": {
     "name": "#%%\n"
    }
   },
   "outputs": [],
   "source": [
    "def plot_prune(clf):\n",
    "    q_metrics = {}\n",
    "    for q in np.arange(.50, 1, .02):\n",
    "       q_metrics[q] = threshold_to_metrics(clf, q)['prune']\n",
    "\n",
    "    lists = sorted(q_metrics.items()) # sorted by key, return a list of tuples\n",
    "    x, y = zip(*lists) # unpack a list of pairs into two tuples\n",
    "\n",
    "    l1,  = plt.plot(x, y, label='new')\n",
    "    plt.legend(handles=[l1], loc='upper right')\n",
    "    plt.show()\n",
    "    return plt\n",
    "\n",
    "def plot_max_prune(clf):\n",
    "    max_prune_pc = max_prune(y_test)\n",
    "    q_metrics = {}\n",
    "    for q in np.arange(.50, 1, .02):\n",
    "       q_metrics[q] = threshold_to_metrics(clf, q)['prune'] / max_prune_pc\n",
    "\n",
    "    lists = sorted(q_metrics.items()) # sorted by key, return a list of tuples\n",
    "    x, y = zip(*lists) # unpack a list of pairs into two tuples\n",
    "\n",
    "    l1,  = plt.plot(x, y, label='new')\n",
    "    plt.legend(handles=[l1], loc='upper right')\n",
    "    plt.show()\n",
    "    return plt\n"
   ]
  },
  {
   "cell_type": "code",
   "execution_count": 29,
   "metadata": {
    "pycharm": {
     "name": "#%%\n"
    }
   },
   "outputs": [],
   "source": [
    "def plot_fnr(clf):\n",
    "    q_metrics = {}\n",
    "    for q in np.arange(.50, 1, .02):\n",
    "       q_metrics[q] = threshold_to_metrics(clf, q)['fnr']\n",
    "\n",
    "    lists = sorted(q_metrics.items()) # sorted by key, return a list of tuples\n",
    "    x, y = zip(*lists) # unpack a list of pairs into two tuples\n",
    "\n",
    "    l1,  = plt.plot(x, y, label='new')\n",
    "    plt.legend(handles=[l1], loc='upper right')\n",
    "    plt.show()\n",
    "    return plt"
   ]
  },
  {
   "cell_type": "code",
   "execution_count": 30,
   "outputs": [
    {
     "data": {
      "text/plain": "['models/sgd.joblib']"
     },
     "execution_count": 30,
     "metadata": {},
     "output_type": "execute_result"
    }
   ],
   "source": [
    "sgd = SGDClassifier(max_iter=1000, tol=1e-3, loss='modified_huber', penalty=\"elasticnet\", random_state=0, class_weight='balanced')\n",
    "sgd.fit(X_train, y_train)\n",
    "dump(sgd, f'models/sgd.joblib')\n"
   ],
   "metadata": {
    "collapsed": false,
    "pycharm": {
     "name": "#%%\n"
    }
   }
  },
  {
   "cell_type": "code",
   "execution_count": 31,
   "outputs": [
    {
     "data": {
      "text/plain": "<Figure size 432x288 with 1 Axes>",
      "image/png": "[encoded data removed]"
     },
     "metadata": {
      "needs_background": "light"
     },
     "output_type": "display_data"
    },
    {
     "data": {
      "text/plain": "<module 'matplotlib.pyplot' from '/home/thomas/.local/lib/python3.6/site-packages/matplotlib/pyplot.py'>"
     },
     "execution_count": 31,
     "metadata": {},
     "output_type": "execute_result"
    }
   ],
   "source": [
    "plot_fnr(sgd)"
   ],
   "metadata": {
    "collapsed": false,
    "pycharm": {
     "name": "#%%\n"
    }
   }
  },
  {
   "cell_type": "code",
   "execution_count": 32,
   "outputs": [
    {
     "data": {
      "text/plain": "<Figure size 432x288 with 1 Axes>",
      "image/png": "[encoded data removed]"
     },
     "metadata": {
      "needs_background": "light"
     },
     "output_type": "display_data"
    },
    {
     "data": {
      "text/plain": "<module 'matplotlib.pyplot' from '/home/thomas/.local/lib/python3.6/site-packages/matplotlib/pyplot.py'>"
     },
     "execution_count": 32,
     "metadata": {},
     "output_type": "execute_result"
    }
   ],
   "source": [
    "plot_prune(sgd)"
   ],
   "metadata": {
    "collapsed": false,
    "pycharm": {
     "name": "#%%\n"
    }
   }
  },
  {
   "cell_type": "code",
   "execution_count": 33,
   "outputs": [
    {
     "data": {
      "text/plain": "<Figure size 432x288 with 1 Axes>",
      "image/png": "[encoded data removed]"
     },
     "metadata": {
      "needs_background": "light"
     },
     "output_type": "display_data"
    },
    {
     "data": {
      "text/plain": "<module 'matplotlib.pyplot' from '/home/thomas/.local/lib/python3.6/site-packages/matplotlib/pyplot.py'>"
     },
     "execution_count": 33,
     "metadata": {},
     "output_type": "execute_result"
    }
   ],
   "source": [
    "plot_max_prune(sgd)\n"
   ],
   "metadata": {
    "collapsed": false,
    "pycharm": {
     "name": "#%%\n"
    }
   }
  }
 ],
 "metadata": {
  "kernelspec": {
   "display_name": "Python 3",
   "language": "python",
   "name": "python3"
  },
  "language_info": {
   "codemirror_mode": {
    "name": "ipython",
    "version": 3
   },
   "file_extension": ".py",
   "mimetype": "text/x-python",
   "name": "python",
   "nbconvert_exporter": "python",
   "pygments_lexer": "ipython3",
   "version": "3.9.1"
  }
 },
 "nbformat": 4,
 "nbformat_minor": 2
}